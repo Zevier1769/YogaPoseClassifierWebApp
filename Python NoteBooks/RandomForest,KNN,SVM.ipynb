{
  "nbformat": 4,
  "nbformat_minor": 0,
  "metadata": {
    "colab": {
      "provenance": []
    },
    "kernelspec": {
      "name": "python3",
      "display_name": "Python 3"
    },
    "language_info": {
      "name": "python"
    },
    "accelerator": "GPU"
  },
  "cells": [
    {
      "cell_type": "code",
      "execution_count": null,
      "metadata": {
        "id": "_0MQGnpalE2U"
      },
      "outputs": [],
      "source": [
        "import glob\n",
        "import tensorflow as tf\n",
        "from tensorflow import keras\n",
        "import matplotlib.pyplot as plt\n",
        "from sklearn.metrics import accuracy_score,confusion_matrix,classification_report\n",
        "import numpy as np\n",
        "import cv2"
      ]
    },
    {
      "cell_type": "code",
      "source": [
        "Downdog = glob.glob('/content/drive/MyDrive/DATASET1/DATASET/Downdog/*.*')\n",
        "Goddness = glob.glob('/content/drive/MyDrive/DATASET1/DATASET/Goddess/*.*')\n",
        "Plank = glob.glob('/content/drive/MyDrive/DATASET1/DATASET/Plank/*.*')\n",
        "Tree = glob.glob('/content/drive/MyDrive/DATASET1/DATASET/Tree/*.*')\n",
        "Warrior = glob.glob('/content/drive/MyDrive/DATASET1/DATASET/Warrior/*.*')\n",
        "\n",
        "data = []\n",
        "labels = []\n",
        "\n",
        "for i in Downdog:   \n",
        "    image=tf.keras.preprocessing.image.load_img(i, color_mode='rgb', \n",
        "    target_size= (200,200))\n",
        "    image=np.array(image)\n",
        "    data.append(image)\n",
        "    labels.append(0)\n",
        "for i in Goddness:   \n",
        "    image=tf.keras.preprocessing.image.load_img(i, color_mode='rgb', \n",
        "    target_size= (200,200))\n",
        "    image=np.array(image)\n",
        "    data.append(image)\n",
        "    labels.append(1)\n",
        "for i in Plank:   \n",
        "    image=tf.keras.preprocessing.image.load_img(i, color_mode='rgb', \n",
        "    target_size= (200,200))\n",
        "    image=np.array(image)\n",
        "    data.append(image)\n",
        "    labels.append(2)\n",
        "for i in Tree:   \n",
        "    image=tf.keras.preprocessing.image.load_img(i, color_mode='rgb', \n",
        "    target_size= (200,200))\n",
        "    image=np.array(image)\n",
        "    data.append(image)\n",
        "    labels.append(3)\n",
        "for i in Warrior:   \n",
        "    image=tf.keras.preprocessing.image.load_img(i, color_mode='rgb', \n",
        "    target_size= (200,200))\n",
        "    image=np.array(image)\n",
        "    data.append(image)\n",
        "    labels.append(4)\n",
        "\n",
        "data = np.array(data)\n",
        "labels = np.array(labels)\n",
        "\n",
        "from sklearn.model_selection import train_test_split\n",
        "x_train, x_test, y_train, y_test = train_test_split(data, labels, test_size=0.2,\n",
        "                                                random_state=42)"
      ],
      "metadata": {
        "id": "JM_nCvVjma4c"
      },
      "execution_count": null,
      "outputs": []
    },
    {
      "cell_type": "code",
      "source": [
        "x_train.shape, x_test.shape, y_train.shape, y_test.shape"
      ],
      "metadata": {
        "colab": {
          "base_uri": "https://localhost:8080/"
        },
        "id": "RwAFSX3Bnq41",
        "outputId": "4225a014-f9eb-4d77-e0dd-3b116af16c17"
      },
      "execution_count": null,
      "outputs": [
        {
          "output_type": "execute_result",
          "data": {
            "text/plain": [
              "((288, 200, 200, 3), (73, 200, 200, 3), (288,), (73,))"
            ]
          },
          "metadata": {},
          "execution_count": 4
        }
      ]
    },
    {
      "cell_type": "code",
      "source": [
        "x_train = x_train/255.0\n",
        "x_test = x_test/255.0"
      ],
      "metadata": {
        "id": "pCq8pQmsn0Dj"
      },
      "execution_count": null,
      "outputs": []
    },
    {
      "cell_type": "code",
      "source": [
        "nsamples, nx, ny, nrgb = x_train.shape\n",
        "x_train1 = x_train.reshape((nsamples,nx*ny*nrgb))"
      ],
      "metadata": {
        "id": "tZaI2BOwn-d4"
      },
      "execution_count": null,
      "outputs": []
    },
    {
      "cell_type": "code",
      "source": [
        "nsamples, nx, ny, nrgb = x_test.shape\n",
        "x_test1 = x_test.reshape((nsamples,nx*ny*nrgb))"
      ],
      "metadata": {
        "id": "rlJfjT5roMDL"
      },
      "execution_count": null,
      "outputs": []
    },
    {
      "cell_type": "code",
      "source": [
        "from sklearn.ensemble import RandomForestClassifier\n",
        "model=RandomForestClassifier(random_state=5)\n",
        "model.fit(x_train1,y_train)"
      ],
      "metadata": {
        "colab": {
          "base_uri": "https://localhost:8080/"
        },
        "id": "PSmBXN68oQYK",
        "outputId": "fcea79d9-ab98-495c-bfb6-cb11937e8725"
      },
      "execution_count": null,
      "outputs": [
        {
          "output_type": "execute_result",
          "data": {
            "text/plain": [
              "RandomForestClassifier(random_state=5)"
            ]
          },
          "metadata": {},
          "execution_count": 79
        }
      ]
    },
    {
      "cell_type": "code",
      "source": [
        "y_pred=model.predict(x_test1)\n",
        "y_pred"
      ],
      "metadata": {
        "colab": {
          "base_uri": "https://localhost:8080/"
        },
        "id": "pHNeTxLOoc8z",
        "outputId": "1c24854c-fd50-49e5-b010-c388410d57ca"
      },
      "execution_count": null,
      "outputs": [
        {
          "output_type": "execute_result",
          "data": {
            "text/plain": [
              "array([1, 0, 0, 4, 0, 2, 4, 4, 2, 4, 3, 3, 3, 0, 2, 2, 3, 2, 1, 1, 0, 2,\n",
              "       0, 3, 2, 2, 2, 2, 2, 4, 0, 1, 0, 4, 1, 1, 0, 0, 4, 2, 3, 4, 0, 1,\n",
              "       1, 4, 1, 0, 0, 0, 3, 2, 3, 1, 2, 1, 4, 0, 3, 1, 4, 3, 1, 0, 3, 0,\n",
              "       2, 1, 4, 1, 1, 4, 2])"
            ]
          },
          "metadata": {},
          "execution_count": 80
        }
      ]
    },
    {
      "cell_type": "code",
      "source": [
        "accuracy_score(y_pred,y_test)\n",
        "print(classification_report(y_pred,y_test))"
      ],
      "metadata": {
        "colab": {
          "base_uri": "https://localhost:8080/"
        },
        "id": "om0ToFrlog28",
        "outputId": "bce2b711-02e8-4cfe-8256-849d6be7c5f9"
      },
      "execution_count": null,
      "outputs": [
        {
          "output_type": "stream",
          "name": "stdout",
          "text": [
            "              precision    recall  f1-score   support\n",
            "\n",
            "           0       0.94      1.00      0.97        17\n",
            "           1       0.71      0.62      0.67        16\n",
            "           2       0.81      0.81      0.81        16\n",
            "           3       0.91      0.91      0.91        11\n",
            "           4       0.64      0.69      0.67        13\n",
            "\n",
            "    accuracy                           0.81        73\n",
            "   macro avg       0.80      0.81      0.81        73\n",
            "weighted avg       0.81      0.81      0.81        73\n",
            "\n"
          ]
        }
      ]
    },
    {
      "cell_type": "code",
      "source": [
        "from sklearn.neighbors import KNeighborsClassifier\n",
        "from sklearn.model_selection import GridSearchCV"
      ],
      "metadata": {
        "id": "wrBLGpl-ospz"
      },
      "execution_count": null,
      "outputs": []
    },
    {
      "cell_type": "code",
      "source": [
        "#n_neighbors = np.array(range(1,40))\n",
        "#param_grid = dict(n_neighbors=n_neighbors)"
      ],
      "metadata": {
        "id": "5iR1-PORuKo6"
      },
      "execution_count": null,
      "outputs": []
    },
    {
      "cell_type": "code",
      "source": [
        "knn=KNeighborsClassifier(n_neighbors=1)\n",
        "knn.fit(x_train1,y_train)\n",
        "##grid = GridSearchCV(estimator=knn, param_grid=param_grid)\n",
        "grid.fit(x_train1,y_train)\n",
        "\n"
      ],
      "metadata": {
        "colab": {
          "base_uri": "https://localhost:8080/"
        },
        "id": "W8WoXLZquJms",
        "outputId": "cb7f066a-7749-4c05-b02c-110bfd595fae"
      },
      "execution_count": null,
      "outputs": [
        {
          "output_type": "execute_result",
          "data": {
            "text/plain": [
              "KNeighborsClassifier(n_neighbors=1)"
            ]
          },
          "metadata": {},
          "execution_count": 82
        }
      ]
    },
    {
      "cell_type": "code",
      "source": [
        "#print(grid.best_score_)\n",
        "#print(grid.best_params_)\n"
      ],
      "metadata": {
        "colab": {
          "base_uri": "https://localhost:8080/"
        },
        "id": "yKJ_-HDEvG6g",
        "outputId": "299cf91d-488f-4873-a7d3-d79c821ca41e"
      },
      "execution_count": null,
      "outputs": [
        {
          "output_type": "stream",
          "name": "stdout",
          "text": [
            "0.7118572292800968\n",
            "{'n_neighbors': 1}\n"
          ]
        }
      ]
    },
    {
      "cell_type": "code",
      "source": [
        "y_pred_knn=knn.predict(x_test1)\n",
        "y_pred_knn"
      ],
      "metadata": {
        "colab": {
          "base_uri": "https://localhost:8080/"
        },
        "id": "shr86K9JpFXP",
        "outputId": "eaff8722-e358-46ac-ff28-d2e60c53fbe1"
      },
      "execution_count": null,
      "outputs": [
        {
          "output_type": "execute_result",
          "data": {
            "text/plain": [
              "array([2, 0, 0, 4, 0, 2, 1, 4, 2, 2, 3, 1, 3, 0, 2, 2, 3, 2, 1, 1, 0, 2,\n",
              "       4, 3, 2, 2, 2, 2, 2, 4, 2, 1, 0, 4, 0, 1, 0, 0, 4, 2, 3, 4, 0, 3,\n",
              "       1, 4, 1, 0, 0, 0, 3, 2, 3, 1, 3, 1, 1, 1, 3, 1, 1, 2, 1, 0, 3, 0,\n",
              "       2, 3, 4, 1, 1, 4, 2])"
            ]
          },
          "metadata": {},
          "execution_count": 83
        }
      ]
    },
    {
      "cell_type": "code",
      "source": [
        "accuracy_score(y_pred_knn,y_test)\n",
        "print(classification_report(y_pred_knn,y_test))"
      ],
      "metadata": {
        "colab": {
          "base_uri": "https://localhost:8080/"
        },
        "id": "Qhzac-6spLNx",
        "outputId": "c3bafa1f-4069-47ec-ee19-631b0c8200f7"
      },
      "execution_count": null,
      "outputs": [
        {
          "output_type": "stream",
          "name": "stdout",
          "text": [
            "              precision    recall  f1-score   support\n",
            "\n",
            "           0       0.78      0.93      0.85        15\n",
            "           1       0.79      0.65      0.71        17\n",
            "           2       0.81      0.68      0.74        19\n",
            "           3       0.82      0.75      0.78        12\n",
            "           4       0.57      0.80      0.67        10\n",
            "\n",
            "    accuracy                           0.75        73\n",
            "   macro avg       0.75      0.76      0.75        73\n",
            "weighted avg       0.77      0.75      0.75        73\n",
            "\n"
          ]
        }
      ]
    },
    {
      "cell_type": "code",
      "source": [
        "from sklearn.svm import SVC\n",
        "svc = SVC(kernel='linear',gamma='auto')\n",
        "svc.fit(x_train1, y_train)"
      ],
      "metadata": {
        "colab": {
          "base_uri": "https://localhost:8080/"
        },
        "id": "FYWKoRqNpzmy",
        "outputId": "b8da3ea1-4a29-47e3-c01c-a49a0a624f1e"
      },
      "execution_count": null,
      "outputs": [
        {
          "output_type": "execute_result",
          "data": {
            "text/plain": [
              "SVC(gamma='auto', kernel='linear')"
            ]
          },
          "metadata": {},
          "execution_count": 85
        }
      ]
    },
    {
      "cell_type": "code",
      "source": [
        "y_pred_svm=svc.predict(x_test1)\n",
        "y_pred_svm"
      ],
      "metadata": {
        "colab": {
          "base_uri": "https://localhost:8080/"
        },
        "id": "THlFd5tusBOk",
        "outputId": "ff7daa34-4804-4f16-ac20-68a47ec1b4bf"
      },
      "execution_count": null,
      "outputs": [
        {
          "output_type": "execute_result",
          "data": {
            "text/plain": [
              "array([2, 0, 0, 4, 0, 0, 1, 4, 2, 1, 3, 2, 3, 0, 2, 2, 3, 2, 1, 1, 0, 2,\n",
              "       0, 3, 2, 2, 2, 2, 2, 4, 2, 1, 0, 4, 0, 1, 0, 0, 4, 2, 3, 4, 0, 2,\n",
              "       1, 4, 1, 0, 0, 0, 3, 2, 3, 1, 3, 2, 1, 0, 3, 1, 4, 3, 4, 0, 3, 0,\n",
              "       2, 2, 4, 1, 1, 4, 2])"
            ]
          },
          "metadata": {},
          "execution_count": 86
        }
      ]
    },
    {
      "cell_type": "code",
      "source": [
        "accuracy_score(y_pred_svm,y_test)\n",
        "print(classification_report(y_pred_svm,y_test))"
      ],
      "metadata": {
        "colab": {
          "base_uri": "https://localhost:8080/"
        },
        "id": "JAcPdfsHsNgT",
        "outputId": "7e4ab0f4-9392-482d-86a8-d8685c3c73ac"
      },
      "execution_count": null,
      "outputs": [
        {
          "output_type": "stream",
          "name": "stdout",
          "text": [
            "              precision    recall  f1-score   support\n",
            "\n",
            "           0       0.89      0.89      0.89        18\n",
            "           1       0.79      0.85      0.81        13\n",
            "           2       0.75      0.60      0.67        20\n",
            "           3       0.91      0.91      0.91        11\n",
            "           4       0.64      0.82      0.72        11\n",
            "\n",
            "    accuracy                           0.79        73\n",
            "   macro avg       0.80      0.81      0.80        73\n",
            "weighted avg       0.80      0.79      0.79        73\n",
            "\n"
          ]
        }
      ]
    }
  ]
}