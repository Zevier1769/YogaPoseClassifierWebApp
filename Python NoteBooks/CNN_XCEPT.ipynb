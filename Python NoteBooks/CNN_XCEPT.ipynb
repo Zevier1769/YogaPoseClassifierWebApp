{
  "nbformat": 4,
  "nbformat_minor": 0,
  "metadata": {
    "colab": {
      "provenance": []
    },
    "kernelspec": {
      "name": "python3",
      "display_name": "Python 3"
    },
    "language_info": {
      "name": "python"
    },
    "accelerator": "GPU"
  },
  "cells": [
    {
      "cell_type": "code",
      "execution_count": null,
      "metadata": {
        "id": "EMxORy9pB9AV"
      },
      "outputs": [],
      "source": [
        "from keras.layers import Input, Lambda, Dense, Flatten\n",
        "from keras.models import Model\n",
        "from keras.applications.xception import Xception \n",
        "#from keras.applications.vgg16 import VGG16\n",
        "from keras.applications.xception import preprocess_input\n",
        "from keras.preprocessing import image\n",
        "from keras.preprocessing.image import ImageDataGenerator,load_img\n",
        "from keras.models import Sequential\n",
        "import numpy as np\n",
        "from glob import glob"
      ]
    },
    {
      "cell_type": "code",
      "source": [
        "IMAGE_SIZE = [224, 224]"
      ],
      "metadata": {
        "id": "SIvBIRW6CpFI"
      },
      "execution_count": null,
      "outputs": []
    },
    {
      "cell_type": "code",
      "source": [
        "from PIL import ImageFile\n",
        "ImageFile.LOAD_TRUNCATED_IMAGES = True"
      ],
      "metadata": {
        "id": "DzGy0dlSCs2m"
      },
      "execution_count": null,
      "outputs": []
    },
    {
      "cell_type": "code",
      "source": [
        "train_path = '/content/drive/MyDrive/DATASET/TRAIN'\n",
        "test_path = '/content/drive/MyDrive/DATASET/TEST'"
      ],
      "metadata": {
        "id": "rzQf63KvCvD-"
      },
      "execution_count": null,
      "outputs": []
    },
    {
      "cell_type": "code",
      "source": [
        "xcept = Xception(input_shape=IMAGE_SIZE + [3], weights='imagenet', include_top=False)"
      ],
      "metadata": {
        "colab": {
          "base_uri": "https://localhost:8080/"
        },
        "id": "6RWfc4gBCxG9",
        "outputId": "a5172fdd-e014-471d-cce4-e0ec8f59cffb"
      },
      "execution_count": null,
      "outputs": [
        {
          "output_type": "stream",
          "name": "stdout",
          "text": [
            "Downloading data from https://storage.googleapis.com/tensorflow/keras-applications/xception/xception_weights_tf_dim_ordering_tf_kernels_notop.h5\n",
            "83689472/83683744 [==============================] - 1s 0us/step\n",
            "83697664/83683744 [==============================] - 1s 0us/step\n"
          ]
        }
      ]
    },
    {
      "cell_type": "code",
      "source": [
        "for layer in xcept.layers:\n",
        "  layer.trainable = False"
      ],
      "metadata": {
        "id": "gDB-x01sC9s8"
      },
      "execution_count": null,
      "outputs": []
    },
    {
      "cell_type": "code",
      "source": [
        "folders = glob('/content/drive/MyDrive/DATASET/TRAIN/*')"
      ],
      "metadata": {
        "id": "f2IDPQ4eDCKt"
      },
      "execution_count": null,
      "outputs": []
    },
    {
      "cell_type": "code",
      "source": [
        "len(folders)"
      ],
      "metadata": {
        "colab": {
          "base_uri": "https://localhost:8080/"
        },
        "id": "ylrM3LqpDESX",
        "outputId": "c6f71354-a1b9-45ab-e94b-35dd52df1f2a"
      },
      "execution_count": null,
      "outputs": [
        {
          "output_type": "execute_result",
          "data": {
            "text/plain": [
              "5"
            ]
          },
          "metadata": {},
          "execution_count": 8
        }
      ]
    },
    {
      "cell_type": "code",
      "source": [
        "x = Flatten()(xcept.output)\n",
        "prediction = Dense(len(folders), activation='softmax')(x)\n",
        "model = Model(inputs=xcept.input, outputs=prediction)\n",
        "model.summary()"
      ],
      "metadata": {
        "colab": {
          "base_uri": "https://localhost:8080/"
        },
        "id": "sjqElySRDGal",
        "outputId": "0229f393-c547-4e39-8a75-fb02c1c845d7"
      },
      "execution_count": null,
      "outputs": [
        {
          "output_type": "stream",
          "name": "stdout",
          "text": [
            "Model: \"model\"\n",
            "__________________________________________________________________________________________________\n",
            " Layer (type)                   Output Shape         Param #     Connected to                     \n",
            "==================================================================================================\n",
            " input_1 (InputLayer)           [(None, 224, 224, 3  0           []                               \n",
            "                                )]                                                                \n",
            "                                                                                                  \n",
            " block1_conv1 (Conv2D)          (None, 111, 111, 32  864         ['input_1[0][0]']                \n",
            "                                )                                                                 \n",
            "                                                                                                  \n",
            " block1_conv1_bn (BatchNormaliz  (None, 111, 111, 32  128        ['block1_conv1[0][0]']           \n",
            " ation)                         )                                                                 \n",
            "                                                                                                  \n",
            " block1_conv1_act (Activation)  (None, 111, 111, 32  0           ['block1_conv1_bn[0][0]']        \n",
            "                                )                                                                 \n",
            "                                                                                                  \n",
            " block1_conv2 (Conv2D)          (None, 109, 109, 64  18432       ['block1_conv1_act[0][0]']       \n",
            "                                )                                                                 \n",
            "                                                                                                  \n",
            " block1_conv2_bn (BatchNormaliz  (None, 109, 109, 64  256        ['block1_conv2[0][0]']           \n",
            " ation)                         )                                                                 \n",
            "                                                                                                  \n",
            " block1_conv2_act (Activation)  (None, 109, 109, 64  0           ['block1_conv2_bn[0][0]']        \n",
            "                                )                                                                 \n",
            "                                                                                                  \n",
            " block2_sepconv1 (SeparableConv  (None, 109, 109, 12  8768       ['block1_conv2_act[0][0]']       \n",
            " 2D)                            8)                                                                \n",
            "                                                                                                  \n",
            " block2_sepconv1_bn (BatchNorma  (None, 109, 109, 12  512        ['block2_sepconv1[0][0]']        \n",
            " lization)                      8)                                                                \n",
            "                                                                                                  \n",
            " block2_sepconv2_act (Activatio  (None, 109, 109, 12  0          ['block2_sepconv1_bn[0][0]']     \n",
            " n)                             8)                                                                \n",
            "                                                                                                  \n",
            " block2_sepconv2 (SeparableConv  (None, 109, 109, 12  17536      ['block2_sepconv2_act[0][0]']    \n",
            " 2D)                            8)                                                                \n",
            "                                                                                                  \n",
            " block2_sepconv2_bn (BatchNorma  (None, 109, 109, 12  512        ['block2_sepconv2[0][0]']        \n",
            " lization)                      8)                                                                \n",
            "                                                                                                  \n",
            " conv2d (Conv2D)                (None, 55, 55, 128)  8192        ['block1_conv2_act[0][0]']       \n",
            "                                                                                                  \n",
            " block2_pool (MaxPooling2D)     (None, 55, 55, 128)  0           ['block2_sepconv2_bn[0][0]']     \n",
            "                                                                                                  \n",
            " batch_normalization (BatchNorm  (None, 55, 55, 128)  512        ['conv2d[0][0]']                 \n",
            " alization)                                                                                       \n",
            "                                                                                                  \n",
            " add (Add)                      (None, 55, 55, 128)  0           ['block2_pool[0][0]',            \n",
            "                                                                  'batch_normalization[0][0]']    \n",
            "                                                                                                  \n",
            " block3_sepconv1_act (Activatio  (None, 55, 55, 128)  0          ['add[0][0]']                    \n",
            " n)                                                                                               \n",
            "                                                                                                  \n",
            " block3_sepconv1 (SeparableConv  (None, 55, 55, 256)  33920      ['block3_sepconv1_act[0][0]']    \n",
            " 2D)                                                                                              \n",
            "                                                                                                  \n",
            " block3_sepconv1_bn (BatchNorma  (None, 55, 55, 256)  1024       ['block3_sepconv1[0][0]']        \n",
            " lization)                                                                                        \n",
            "                                                                                                  \n",
            " block3_sepconv2_act (Activatio  (None, 55, 55, 256)  0          ['block3_sepconv1_bn[0][0]']     \n",
            " n)                                                                                               \n",
            "                                                                                                  \n",
            " block3_sepconv2 (SeparableConv  (None, 55, 55, 256)  67840      ['block3_sepconv2_act[0][0]']    \n",
            " 2D)                                                                                              \n",
            "                                                                                                  \n",
            " block3_sepconv2_bn (BatchNorma  (None, 55, 55, 256)  1024       ['block3_sepconv2[0][0]']        \n",
            " lization)                                                                                        \n",
            "                                                                                                  \n",
            " conv2d_1 (Conv2D)              (None, 28, 28, 256)  32768       ['add[0][0]']                    \n",
            "                                                                                                  \n",
            " block3_pool (MaxPooling2D)     (None, 28, 28, 256)  0           ['block3_sepconv2_bn[0][0]']     \n",
            "                                                                                                  \n",
            " batch_normalization_1 (BatchNo  (None, 28, 28, 256)  1024       ['conv2d_1[0][0]']               \n",
            " rmalization)                                                                                     \n",
            "                                                                                                  \n",
            " add_1 (Add)                    (None, 28, 28, 256)  0           ['block3_pool[0][0]',            \n",
            "                                                                  'batch_normalization_1[0][0]']  \n",
            "                                                                                                  \n",
            " block4_sepconv1_act (Activatio  (None, 28, 28, 256)  0          ['add_1[0][0]']                  \n",
            " n)                                                                                               \n",
            "                                                                                                  \n",
            " block4_sepconv1 (SeparableConv  (None, 28, 28, 728)  188672     ['block4_sepconv1_act[0][0]']    \n",
            " 2D)                                                                                              \n",
            "                                                                                                  \n",
            " block4_sepconv1_bn (BatchNorma  (None, 28, 28, 728)  2912       ['block4_sepconv1[0][0]']        \n",
            " lization)                                                                                        \n",
            "                                                                                                  \n",
            " block4_sepconv2_act (Activatio  (None, 28, 28, 728)  0          ['block4_sepconv1_bn[0][0]']     \n",
            " n)                                                                                               \n",
            "                                                                                                  \n",
            " block4_sepconv2 (SeparableConv  (None, 28, 28, 728)  536536     ['block4_sepconv2_act[0][0]']    \n",
            " 2D)                                                                                              \n",
            "                                                                                                  \n",
            " block4_sepconv2_bn (BatchNorma  (None, 28, 28, 728)  2912       ['block4_sepconv2[0][0]']        \n",
            " lization)                                                                                        \n",
            "                                                                                                  \n",
            " conv2d_2 (Conv2D)              (None, 14, 14, 728)  186368      ['add_1[0][0]']                  \n",
            "                                                                                                  \n",
            " block4_pool (MaxPooling2D)     (None, 14, 14, 728)  0           ['block4_sepconv2_bn[0][0]']     \n",
            "                                                                                                  \n",
            " batch_normalization_2 (BatchNo  (None, 14, 14, 728)  2912       ['conv2d_2[0][0]']               \n",
            " rmalization)                                                                                     \n",
            "                                                                                                  \n",
            " add_2 (Add)                    (None, 14, 14, 728)  0           ['block4_pool[0][0]',            \n",
            "                                                                  'batch_normalization_2[0][0]']  \n",
            "                                                                                                  \n",
            " block5_sepconv1_act (Activatio  (None, 14, 14, 728)  0          ['add_2[0][0]']                  \n",
            " n)                                                                                               \n",
            "                                                                                                  \n",
            " block5_sepconv1 (SeparableConv  (None, 14, 14, 728)  536536     ['block5_sepconv1_act[0][0]']    \n",
            " 2D)                                                                                              \n",
            "                                                                                                  \n",
            " block5_sepconv1_bn (BatchNorma  (None, 14, 14, 728)  2912       ['block5_sepconv1[0][0]']        \n",
            " lization)                                                                                        \n",
            "                                                                                                  \n",
            " block5_sepconv2_act (Activatio  (None, 14, 14, 728)  0          ['block5_sepconv1_bn[0][0]']     \n",
            " n)                                                                                               \n",
            "                                                                                                  \n",
            " block5_sepconv2 (SeparableConv  (None, 14, 14, 728)  536536     ['block5_sepconv2_act[0][0]']    \n",
            " 2D)                                                                                              \n",
            "                                                                                                  \n",
            " block5_sepconv2_bn (BatchNorma  (None, 14, 14, 728)  2912       ['block5_sepconv2[0][0]']        \n",
            " lization)                                                                                        \n",
            "                                                                                                  \n",
            " block5_sepconv3_act (Activatio  (None, 14, 14, 728)  0          ['block5_sepconv2_bn[0][0]']     \n",
            " n)                                                                                               \n",
            "                                                                                                  \n",
            " block5_sepconv3 (SeparableConv  (None, 14, 14, 728)  536536     ['block5_sepconv3_act[0][0]']    \n",
            " 2D)                                                                                              \n",
            "                                                                                                  \n",
            " block5_sepconv3_bn (BatchNorma  (None, 14, 14, 728)  2912       ['block5_sepconv3[0][0]']        \n",
            " lization)                                                                                        \n",
            "                                                                                                  \n",
            " add_3 (Add)                    (None, 14, 14, 728)  0           ['block5_sepconv3_bn[0][0]',     \n",
            "                                                                  'add_2[0][0]']                  \n",
            "                                                                                                  \n",
            " block6_sepconv1_act (Activatio  (None, 14, 14, 728)  0          ['add_3[0][0]']                  \n",
            " n)                                                                                               \n",
            "                                                                                                  \n",
            " block6_sepconv1 (SeparableConv  (None, 14, 14, 728)  536536     ['block6_sepconv1_act[0][0]']    \n",
            " 2D)                                                                                              \n",
            "                                                                                                  \n",
            " block6_sepconv1_bn (BatchNorma  (None, 14, 14, 728)  2912       ['block6_sepconv1[0][0]']        \n",
            " lization)                                                                                        \n",
            "                                                                                                  \n",
            " block6_sepconv2_act (Activatio  (None, 14, 14, 728)  0          ['block6_sepconv1_bn[0][0]']     \n",
            " n)                                                                                               \n",
            "                                                                                                  \n",
            " block6_sepconv2 (SeparableConv  (None, 14, 14, 728)  536536     ['block6_sepconv2_act[0][0]']    \n",
            " 2D)                                                                                              \n",
            "                                                                                                  \n",
            " block6_sepconv2_bn (BatchNorma  (None, 14, 14, 728)  2912       ['block6_sepconv2[0][0]']        \n",
            " lization)                                                                                        \n",
            "                                                                                                  \n",
            " block6_sepconv3_act (Activatio  (None, 14, 14, 728)  0          ['block6_sepconv2_bn[0][0]']     \n",
            " n)                                                                                               \n",
            "                                                                                                  \n",
            " block6_sepconv3 (SeparableConv  (None, 14, 14, 728)  536536     ['block6_sepconv3_act[0][0]']    \n",
            " 2D)                                                                                              \n",
            "                                                                                                  \n",
            " block6_sepconv3_bn (BatchNorma  (None, 14, 14, 728)  2912       ['block6_sepconv3[0][0]']        \n",
            " lization)                                                                                        \n",
            "                                                                                                  \n",
            " add_4 (Add)                    (None, 14, 14, 728)  0           ['block6_sepconv3_bn[0][0]',     \n",
            "                                                                  'add_3[0][0]']                  \n",
            "                                                                                                  \n",
            " block7_sepconv1_act (Activatio  (None, 14, 14, 728)  0          ['add_4[0][0]']                  \n",
            " n)                                                                                               \n",
            "                                                                                                  \n",
            " block7_sepconv1 (SeparableConv  (None, 14, 14, 728)  536536     ['block7_sepconv1_act[0][0]']    \n",
            " 2D)                                                                                              \n",
            "                                                                                                  \n",
            " block7_sepconv1_bn (BatchNorma  (None, 14, 14, 728)  2912       ['block7_sepconv1[0][0]']        \n",
            " lization)                                                                                        \n",
            "                                                                                                  \n",
            " block7_sepconv2_act (Activatio  (None, 14, 14, 728)  0          ['block7_sepconv1_bn[0][0]']     \n",
            " n)                                                                                               \n",
            "                                                                                                  \n",
            " block7_sepconv2 (SeparableConv  (None, 14, 14, 728)  536536     ['block7_sepconv2_act[0][0]']    \n",
            " 2D)                                                                                              \n",
            "                                                                                                  \n",
            " block7_sepconv2_bn (BatchNorma  (None, 14, 14, 728)  2912       ['block7_sepconv2[0][0]']        \n",
            " lization)                                                                                        \n",
            "                                                                                                  \n",
            " block7_sepconv3_act (Activatio  (None, 14, 14, 728)  0          ['block7_sepconv2_bn[0][0]']     \n",
            " n)                                                                                               \n",
            "                                                                                                  \n",
            " block7_sepconv3 (SeparableConv  (None, 14, 14, 728)  536536     ['block7_sepconv3_act[0][0]']    \n",
            " 2D)                                                                                              \n",
            "                                                                                                  \n",
            " block7_sepconv3_bn (BatchNorma  (None, 14, 14, 728)  2912       ['block7_sepconv3[0][0]']        \n",
            " lization)                                                                                        \n",
            "                                                                                                  \n",
            " add_5 (Add)                    (None, 14, 14, 728)  0           ['block7_sepconv3_bn[0][0]',     \n",
            "                                                                  'add_4[0][0]']                  \n",
            "                                                                                                  \n",
            " block8_sepconv1_act (Activatio  (None, 14, 14, 728)  0          ['add_5[0][0]']                  \n",
            " n)                                                                                               \n",
            "                                                                                                  \n",
            " block8_sepconv1 (SeparableConv  (None, 14, 14, 728)  536536     ['block8_sepconv1_act[0][0]']    \n",
            " 2D)                                                                                              \n",
            "                                                                                                  \n",
            " block8_sepconv1_bn (BatchNorma  (None, 14, 14, 728)  2912       ['block8_sepconv1[0][0]']        \n",
            " lization)                                                                                        \n",
            "                                                                                                  \n",
            " block8_sepconv2_act (Activatio  (None, 14, 14, 728)  0          ['block8_sepconv1_bn[0][0]']     \n",
            " n)                                                                                               \n",
            "                                                                                                  \n",
            " block8_sepconv2 (SeparableConv  (None, 14, 14, 728)  536536     ['block8_sepconv2_act[0][0]']    \n",
            " 2D)                                                                                              \n",
            "                                                                                                  \n",
            " block8_sepconv2_bn (BatchNorma  (None, 14, 14, 728)  2912       ['block8_sepconv2[0][0]']        \n",
            " lization)                                                                                        \n",
            "                                                                                                  \n",
            " block8_sepconv3_act (Activatio  (None, 14, 14, 728)  0          ['block8_sepconv2_bn[0][0]']     \n",
            " n)                                                                                               \n",
            "                                                                                                  \n",
            " block8_sepconv3 (SeparableConv  (None, 14, 14, 728)  536536     ['block8_sepconv3_act[0][0]']    \n",
            " 2D)                                                                                              \n",
            "                                                                                                  \n",
            " block8_sepconv3_bn (BatchNorma  (None, 14, 14, 728)  2912       ['block8_sepconv3[0][0]']        \n",
            " lization)                                                                                        \n",
            "                                                                                                  \n",
            " add_6 (Add)                    (None, 14, 14, 728)  0           ['block8_sepconv3_bn[0][0]',     \n",
            "                                                                  'add_5[0][0]']                  \n",
            "                                                                                                  \n",
            " block9_sepconv1_act (Activatio  (None, 14, 14, 728)  0          ['add_6[0][0]']                  \n",
            " n)                                                                                               \n",
            "                                                                                                  \n",
            " block9_sepconv1 (SeparableConv  (None, 14, 14, 728)  536536     ['block9_sepconv1_act[0][0]']    \n",
            " 2D)                                                                                              \n",
            "                                                                                                  \n",
            " block9_sepconv1_bn (BatchNorma  (None, 14, 14, 728)  2912       ['block9_sepconv1[0][0]']        \n",
            " lization)                                                                                        \n",
            "                                                                                                  \n",
            " block9_sepconv2_act (Activatio  (None, 14, 14, 728)  0          ['block9_sepconv1_bn[0][0]']     \n",
            " n)                                                                                               \n",
            "                                                                                                  \n",
            " block9_sepconv2 (SeparableConv  (None, 14, 14, 728)  536536     ['block9_sepconv2_act[0][0]']    \n",
            " 2D)                                                                                              \n",
            "                                                                                                  \n",
            " block9_sepconv2_bn (BatchNorma  (None, 14, 14, 728)  2912       ['block9_sepconv2[0][0]']        \n",
            " lization)                                                                                        \n",
            "                                                                                                  \n",
            " block9_sepconv3_act (Activatio  (None, 14, 14, 728)  0          ['block9_sepconv2_bn[0][0]']     \n",
            " n)                                                                                               \n",
            "                                                                                                  \n",
            " block9_sepconv3 (SeparableConv  (None, 14, 14, 728)  536536     ['block9_sepconv3_act[0][0]']    \n",
            " 2D)                                                                                              \n",
            "                                                                                                  \n",
            " block9_sepconv3_bn (BatchNorma  (None, 14, 14, 728)  2912       ['block9_sepconv3[0][0]']        \n",
            " lization)                                                                                        \n",
            "                                                                                                  \n",
            " add_7 (Add)                    (None, 14, 14, 728)  0           ['block9_sepconv3_bn[0][0]',     \n",
            "                                                                  'add_6[0][0]']                  \n",
            "                                                                                                  \n",
            " block10_sepconv1_act (Activati  (None, 14, 14, 728)  0          ['add_7[0][0]']                  \n",
            " on)                                                                                              \n",
            "                                                                                                  \n",
            " block10_sepconv1 (SeparableCon  (None, 14, 14, 728)  536536     ['block10_sepconv1_act[0][0]']   \n",
            " v2D)                                                                                             \n",
            "                                                                                                  \n",
            " block10_sepconv1_bn (BatchNorm  (None, 14, 14, 728)  2912       ['block10_sepconv1[0][0]']       \n",
            " alization)                                                                                       \n",
            "                                                                                                  \n",
            " block10_sepconv2_act (Activati  (None, 14, 14, 728)  0          ['block10_sepconv1_bn[0][0]']    \n",
            " on)                                                                                              \n",
            "                                                                                                  \n",
            " block10_sepconv2 (SeparableCon  (None, 14, 14, 728)  536536     ['block10_sepconv2_act[0][0]']   \n",
            " v2D)                                                                                             \n",
            "                                                                                                  \n",
            " block10_sepconv2_bn (BatchNorm  (None, 14, 14, 728)  2912       ['block10_sepconv2[0][0]']       \n",
            " alization)                                                                                       \n",
            "                                                                                                  \n",
            " block10_sepconv3_act (Activati  (None, 14, 14, 728)  0          ['block10_sepconv2_bn[0][0]']    \n",
            " on)                                                                                              \n",
            "                                                                                                  \n",
            " block10_sepconv3 (SeparableCon  (None, 14, 14, 728)  536536     ['block10_sepconv3_act[0][0]']   \n",
            " v2D)                                                                                             \n",
            "                                                                                                  \n",
            " block10_sepconv3_bn (BatchNorm  (None, 14, 14, 728)  2912       ['block10_sepconv3[0][0]']       \n",
            " alization)                                                                                       \n",
            "                                                                                                  \n",
            " add_8 (Add)                    (None, 14, 14, 728)  0           ['block10_sepconv3_bn[0][0]',    \n",
            "                                                                  'add_7[0][0]']                  \n",
            "                                                                                                  \n",
            " block11_sepconv1_act (Activati  (None, 14, 14, 728)  0          ['add_8[0][0]']                  \n",
            " on)                                                                                              \n",
            "                                                                                                  \n",
            " block11_sepconv1 (SeparableCon  (None, 14, 14, 728)  536536     ['block11_sepconv1_act[0][0]']   \n",
            " v2D)                                                                                             \n",
            "                                                                                                  \n",
            " block11_sepconv1_bn (BatchNorm  (None, 14, 14, 728)  2912       ['block11_sepconv1[0][0]']       \n",
            " alization)                                                                                       \n",
            "                                                                                                  \n",
            " block11_sepconv2_act (Activati  (None, 14, 14, 728)  0          ['block11_sepconv1_bn[0][0]']    \n",
            " on)                                                                                              \n",
            "                                                                                                  \n",
            " block11_sepconv2 (SeparableCon  (None, 14, 14, 728)  536536     ['block11_sepconv2_act[0][0]']   \n",
            " v2D)                                                                                             \n",
            "                                                                                                  \n",
            " block11_sepconv2_bn (BatchNorm  (None, 14, 14, 728)  2912       ['block11_sepconv2[0][0]']       \n",
            " alization)                                                                                       \n",
            "                                                                                                  \n",
            " block11_sepconv3_act (Activati  (None, 14, 14, 728)  0          ['block11_sepconv2_bn[0][0]']    \n",
            " on)                                                                                              \n",
            "                                                                                                  \n",
            " block11_sepconv3 (SeparableCon  (None, 14, 14, 728)  536536     ['block11_sepconv3_act[0][0]']   \n",
            " v2D)                                                                                             \n",
            "                                                                                                  \n",
            " block11_sepconv3_bn (BatchNorm  (None, 14, 14, 728)  2912       ['block11_sepconv3[0][0]']       \n",
            " alization)                                                                                       \n",
            "                                                                                                  \n",
            " add_9 (Add)                    (None, 14, 14, 728)  0           ['block11_sepconv3_bn[0][0]',    \n",
            "                                                                  'add_8[0][0]']                  \n",
            "                                                                                                  \n",
            " block12_sepconv1_act (Activati  (None, 14, 14, 728)  0          ['add_9[0][0]']                  \n",
            " on)                                                                                              \n",
            "                                                                                                  \n",
            " block12_sepconv1 (SeparableCon  (None, 14, 14, 728)  536536     ['block12_sepconv1_act[0][0]']   \n",
            " v2D)                                                                                             \n",
            "                                                                                                  \n",
            " block12_sepconv1_bn (BatchNorm  (None, 14, 14, 728)  2912       ['block12_sepconv1[0][0]']       \n",
            " alization)                                                                                       \n",
            "                                                                                                  \n",
            " block12_sepconv2_act (Activati  (None, 14, 14, 728)  0          ['block12_sepconv1_bn[0][0]']    \n",
            " on)                                                                                              \n",
            "                                                                                                  \n",
            " block12_sepconv2 (SeparableCon  (None, 14, 14, 728)  536536     ['block12_sepconv2_act[0][0]']   \n",
            " v2D)                                                                                             \n",
            "                                                                                                  \n",
            " block12_sepconv2_bn (BatchNorm  (None, 14, 14, 728)  2912       ['block12_sepconv2[0][0]']       \n",
            " alization)                                                                                       \n",
            "                                                                                                  \n",
            " block12_sepconv3_act (Activati  (None, 14, 14, 728)  0          ['block12_sepconv2_bn[0][0]']    \n",
            " on)                                                                                              \n",
            "                                                                                                  \n",
            " block12_sepconv3 (SeparableCon  (None, 14, 14, 728)  536536     ['block12_sepconv3_act[0][0]']   \n",
            " v2D)                                                                                             \n",
            "                                                                                                  \n",
            " block12_sepconv3_bn (BatchNorm  (None, 14, 14, 728)  2912       ['block12_sepconv3[0][0]']       \n",
            " alization)                                                                                       \n",
            "                                                                                                  \n",
            " add_10 (Add)                   (None, 14, 14, 728)  0           ['block12_sepconv3_bn[0][0]',    \n",
            "                                                                  'add_9[0][0]']                  \n",
            "                                                                                                  \n",
            " block13_sepconv1_act (Activati  (None, 14, 14, 728)  0          ['add_10[0][0]']                 \n",
            " on)                                                                                              \n",
            "                                                                                                  \n",
            " block13_sepconv1 (SeparableCon  (None, 14, 14, 728)  536536     ['block13_sepconv1_act[0][0]']   \n",
            " v2D)                                                                                             \n",
            "                                                                                                  \n",
            " block13_sepconv1_bn (BatchNorm  (None, 14, 14, 728)  2912       ['block13_sepconv1[0][0]']       \n",
            " alization)                                                                                       \n",
            "                                                                                                  \n",
            " block13_sepconv2_act (Activati  (None, 14, 14, 728)  0          ['block13_sepconv1_bn[0][0]']    \n",
            " on)                                                                                              \n",
            "                                                                                                  \n",
            " block13_sepconv2 (SeparableCon  (None, 14, 14, 1024  752024     ['block13_sepconv2_act[0][0]']   \n",
            " v2D)                           )                                                                 \n",
            "                                                                                                  \n",
            " block13_sepconv2_bn (BatchNorm  (None, 14, 14, 1024  4096       ['block13_sepconv2[0][0]']       \n",
            " alization)                     )                                                                 \n",
            "                                                                                                  \n",
            " conv2d_3 (Conv2D)              (None, 7, 7, 1024)   745472      ['add_10[0][0]']                 \n",
            "                                                                                                  \n",
            " block13_pool (MaxPooling2D)    (None, 7, 7, 1024)   0           ['block13_sepconv2_bn[0][0]']    \n",
            "                                                                                                  \n",
            " batch_normalization_3 (BatchNo  (None, 7, 7, 1024)  4096        ['conv2d_3[0][0]']               \n",
            " rmalization)                                                                                     \n",
            "                                                                                                  \n",
            " add_11 (Add)                   (None, 7, 7, 1024)   0           ['block13_pool[0][0]',           \n",
            "                                                                  'batch_normalization_3[0][0]']  \n",
            "                                                                                                  \n",
            " block14_sepconv1 (SeparableCon  (None, 7, 7, 1536)  1582080     ['add_11[0][0]']                 \n",
            " v2D)                                                                                             \n",
            "                                                                                                  \n",
            " block14_sepconv1_bn (BatchNorm  (None, 7, 7, 1536)  6144        ['block14_sepconv1[0][0]']       \n",
            " alization)                                                                                       \n",
            "                                                                                                  \n",
            " block14_sepconv1_act (Activati  (None, 7, 7, 1536)  0           ['block14_sepconv1_bn[0][0]']    \n",
            " on)                                                                                              \n",
            "                                                                                                  \n",
            " block14_sepconv2 (SeparableCon  (None, 7, 7, 2048)  3159552     ['block14_sepconv1_act[0][0]']   \n",
            " v2D)                                                                                             \n",
            "                                                                                                  \n",
            " block14_sepconv2_bn (BatchNorm  (None, 7, 7, 2048)  8192        ['block14_sepconv2[0][0]']       \n",
            " alization)                                                                                       \n",
            "                                                                                                  \n",
            " block14_sepconv2_act (Activati  (None, 7, 7, 2048)  0           ['block14_sepconv2_bn[0][0]']    \n",
            " on)                                                                                              \n",
            "                                                                                                  \n",
            " flatten (Flatten)              (None, 100352)       0           ['block14_sepconv2_act[0][0]']   \n",
            "                                                                                                  \n",
            " dense (Dense)                  (None, 5)            501765      ['flatten[0][0]']                \n",
            "                                                                                                  \n",
            "==================================================================================================\n",
            "Total params: 21,363,245\n",
            "Trainable params: 501,765\n",
            "Non-trainable params: 20,861,480\n",
            "__________________________________________________________________________________________________\n"
          ]
        }
      ]
    },
    {
      "cell_type": "code",
      "source": [
        "model.compile(\n",
        "    loss='categorical_crossentropy',\n",
        "    optimizer='adam',\n",
        "    metrics=['accuracy']\n",
        ")"
      ],
      "metadata": {
        "id": "aWP96e8_DJVQ"
      },
      "execution_count": null,
      "outputs": []
    },
    {
      "cell_type": "code",
      "source": [
        "train_datagen = ImageDataGenerator(\n",
        "    rescale = 1./255, \n",
        "    shear_range = 0.2, \n",
        "    zoom_range=0.2, \n",
        "    horizontal_flip=True)\n",
        "test_datagen = ImageDataGenerator(rescale = 1./255)"
      ],
      "metadata": {
        "id": "uXs0jFdPDsLv"
      },
      "execution_count": null,
      "outputs": []
    },
    {
      "cell_type": "code",
      "source": [
        "training_set = train_datagen.flow_from_directory('/content/drive/MyDrive/DATASET/TRAIN',\n",
        "                                                 target_size = (224, 224),\n",
        "                                                 batch_size = 16,\n",
        "                                                 class_mode = 'categorical')"
      ],
      "metadata": {
        "colab": {
          "base_uri": "https://localhost:8080/"
        },
        "id": "hepC11BxEBdp",
        "outputId": "35a82c84-72d9-42eb-9457-7667f9bc0fcd"
      },
      "execution_count": null,
      "outputs": [
        {
          "output_type": "stream",
          "name": "stdout",
          "text": [
            "Found 634 images belonging to 5 classes.\n"
          ]
        }
      ]
    },
    {
      "cell_type": "code",
      "source": [
        "test_set = train_datagen.flow_from_directory('/content/drive/MyDrive/DATASET/TEST',\n",
        "                                                 target_size = (224, 224),\n",
        "                                                 batch_size = 16,\n",
        "                                                 class_mode = 'categorical')"
      ],
      "metadata": {
        "colab": {
          "base_uri": "https://localhost:8080/"
        },
        "id": "KIdc2hevERt4",
        "outputId": "66f031aa-f334-4f4c-d82b-32180a554829"
      },
      "execution_count": null,
      "outputs": [
        {
          "output_type": "stream",
          "name": "stdout",
          "text": [
            "Found 361 images belonging to 5 classes.\n"
          ]
        }
      ]
    },
    {
      "cell_type": "code",
      "source": [
        "history = model.fit_generator(\n",
        "    training_set, \n",
        "    validation_data=test_set,\n",
        "    epochs=10,\n",
        "    steps_per_epoch=len(training_set),\n",
        "    validation_steps=len(test_set)\n",
        ")"
      ],
      "metadata": {
        "colab": {
          "base_uri": "https://localhost:8080/"
        },
        "id": "raaLwNBwEbAH",
        "outputId": "ef7b1daf-08e4-4388-9748-aa18e8352450"
      },
      "execution_count": null,
      "outputs": [
        {
          "output_type": "stream",
          "name": "stderr",
          "text": [
            "/usr/local/lib/python3.7/dist-packages/ipykernel_launcher.py:6: UserWarning: `Model.fit_generator` is deprecated and will be removed in a future version. Please use `Model.fit`, which supports generators.\n",
            "  \n"
          ]
        },
        {
          "output_type": "stream",
          "name": "stdout",
          "text": [
            "Epoch 1/10\n",
            "40/40 [==============================] - 538s 13s/step - loss: 4.3537 - accuracy: 0.6151 - val_loss: 1.4400 - val_accuracy: 0.8449\n",
            "Epoch 2/10\n",
            "40/40 [==============================] - 32s 813ms/step - loss: 1.0108 - accuracy: 0.8754 - val_loss: 1.0092 - val_accuracy: 0.9058\n",
            "Epoch 3/10\n",
            "40/40 [==============================] - 32s 799ms/step - loss: 0.3347 - accuracy: 0.9558 - val_loss: 0.7070 - val_accuracy: 0.9252\n",
            "Epoch 4/10\n",
            "40/40 [==============================] - 33s 826ms/step - loss: 0.2521 - accuracy: 0.9590 - val_loss: 0.7868 - val_accuracy: 0.9003\n",
            "Epoch 5/10\n",
            "40/40 [==============================] - 32s 822ms/step - loss: 0.4799 - accuracy: 0.9448 - val_loss: 2.2691 - val_accuracy: 0.8006\n",
            "Epoch 6/10\n",
            "40/40 [==============================] - 33s 826ms/step - loss: 0.5245 - accuracy: 0.9290 - val_loss: 1.2380 - val_accuracy: 0.9030\n",
            "Epoch 7/10\n",
            "40/40 [==============================] - 32s 816ms/step - loss: 0.2830 - accuracy: 0.9621 - val_loss: 1.3699 - val_accuracy: 0.9141\n",
            "Epoch 8/10\n",
            "40/40 [==============================] - 32s 808ms/step - loss: 0.0990 - accuracy: 0.9842 - val_loss: 0.5876 - val_accuracy: 0.9446\n",
            "Epoch 9/10\n",
            "40/40 [==============================] - 33s 821ms/step - loss: 0.1902 - accuracy: 0.9763 - val_loss: 1.1046 - val_accuracy: 0.9086\n",
            "Epoch 10/10\n",
            "40/40 [==============================] - 33s 815ms/step - loss: 0.2522 - accuracy: 0.9669 - val_loss: 2.0132 - val_accuracy: 0.8892\n"
          ]
        }
      ]
    },
    {
      "cell_type": "code",
      "source": [
        "from keras.models import load_model\n",
        "model.save('CNN_XCEPT.h5')"
      ],
      "metadata": {
        "id": "ZtAez8efIQ9A"
      },
      "execution_count": null,
      "outputs": []
    },
    {
      "cell_type": "markdown",
      "source": [
        "To do predictions on the trained model I need to load the best saved model and pre-process the image and pass the image to the model for output.\n",
        "\n",
        "from keras.preprocessing import imageimg = image.load_img(\"image.jpeg\",target_size=(224,224))\n",
        "img = np.asarray(img)\n",
        "plt.imshow(img)\n",
        "img = np.expand_dims(img, axis=0)from keras.models import load_model\n",
        "saved_model = load_model(\"CNN_VGG.h5\")output = saved_model.predict(img)"
      ],
      "metadata": {
        "id": "fDdJyO9NJdnL"
      }
    },
    {
      "cell_type": "code",
      "source": [
        "model.evaluate(training_set), model.evaluate(test_set)"
      ],
      "metadata": {
        "colab": {
          "base_uri": "https://localhost:8080/"
        },
        "id": "emqg7dzyIc8G",
        "outputId": "8ccfcc4f-cd06-457b-850a-ada41ad1d20d"
      },
      "execution_count": null,
      "outputs": [
        {
          "output_type": "stream",
          "name": "stdout",
          "text": [
            "40/40 [==============================] - 19s 457ms/step - loss: 0.6440 - accuracy: 0.9385\n",
            "23/23 [==============================] - 14s 596ms/step - loss: 1.9749 - accuracy: 0.8892\n"
          ]
        },
        {
          "output_type": "execute_result",
          "data": {
            "text/plain": [
              "([0.6440097689628601, 0.9384858012199402],\n",
              " [1.9749234914779663, 0.8891966938972473])"
            ]
          },
          "metadata": {},
          "execution_count": 16
        }
      ]
    },
    {
      "cell_type": "code",
      "source": [
        "y_val_org = []\n",
        "for i in range( test_set.__len__() ):\n",
        "    y_val_org.extend(\n",
        "        test_set.__getitem__( i )[1] \n",
        "    )\n",
        "y_val_org = np.array(y_val_org)\n",
        "y_val_org = np.argmax(y_val_org, axis=1)"
      ],
      "metadata": {
        "id": "XVhNpq9BNYSJ"
      },
      "execution_count": null,
      "outputs": []
    },
    {
      "cell_type": "code",
      "source": [
        "y_val_org\n"
      ],
      "metadata": {
        "colab": {
          "base_uri": "https://localhost:8080/"
        },
        "id": "P1TnPA3lNoUR",
        "outputId": "b9dcd826-1638-47cc-dd1f-5d345be02efd"
      },
      "execution_count": null,
      "outputs": [
        {
          "output_type": "execute_result",
          "data": {
            "text/plain": [
              "array([4, 4, 2, 3, 4, 4, 2, 4, 3, 0, 3, 2, 2, 2, 1, 4, 1, 2, 3, 2, 1, 2,\n",
              "       1, 2, 2, 0, 1, 0, 2, 4, 3, 3, 2, 4, 4, 0, 3, 1, 3, 0, 4, 4, 4, 1,\n",
              "       3, 2, 1, 4, 1, 1, 1, 0, 3, 4, 0, 1, 3, 4, 0, 4, 2, 2, 2, 4, 0, 4,\n",
              "       2, 2, 0, 3, 3, 1, 3, 3, 4, 3, 2, 1, 0, 3, 1, 2, 4, 0, 2, 1, 2, 4,\n",
              "       1, 4, 2, 0, 0, 3, 4, 1, 4, 0, 3, 2, 3, 1, 4, 4, 0, 2, 4, 1, 2, 2,\n",
              "       4, 4, 2, 0, 1, 3, 0, 4, 1, 1, 3, 2, 2, 3, 2, 1, 0, 0, 3, 2, 0, 3,\n",
              "       2, 4, 4, 1, 1, 0, 2, 3, 3, 0, 2, 1, 2, 3, 2, 4, 3, 1, 4, 1, 2, 2,\n",
              "       4, 2, 2, 4, 0, 1, 2, 2, 4, 2, 4, 3, 4, 3, 0, 4, 1, 2, 3, 1, 2, 4,\n",
              "       3, 3, 4, 0, 0, 0, 0, 0, 2, 0, 2, 0, 3, 0, 2, 1, 0, 1, 2, 1, 4, 0,\n",
              "       2, 0, 3, 1, 0, 4, 0, 2, 1, 1, 3, 3, 4, 4, 1, 1, 3, 0, 4, 1, 2, 3,\n",
              "       1, 0, 4, 3, 0, 2, 1, 2, 2, 0, 0, 1, 2, 0, 3, 4, 4, 3, 4, 2, 3, 2,\n",
              "       1, 0, 4, 2, 4, 0, 2, 0, 0, 0, 1, 4, 2, 1, 4, 1, 2, 4, 3, 4, 0, 4,\n",
              "       2, 0, 0, 4, 2, 1, 2, 4, 1, 0, 3, 3, 1, 3, 3, 0, 2, 2, 2, 1, 1, 4,\n",
              "       3, 0, 0, 3, 2, 0, 0, 0, 0, 3, 2, 3, 4, 2, 0, 4, 0, 4, 2, 1, 1, 0,\n",
              "       4, 0, 2, 2, 0, 4, 0, 0, 4, 4, 0, 1, 0, 0, 0, 3, 4, 2, 3, 2, 4, 2,\n",
              "       2, 2, 0, 0, 4, 0, 2, 1, 2, 4, 2, 4, 1, 2, 3, 1, 2, 3, 2, 1, 2, 2,\n",
              "       4, 2, 1, 0, 3, 3, 0, 2, 4])"
            ]
          },
          "metadata": {},
          "execution_count": 18
        }
      ]
    },
    {
      "cell_type": "code",
      "source": [
        "ypreds = model.predict(test_set)\n",
        "ypreds = np.argmax(ypreds, axis=1)\n",
        "ypreds"
      ],
      "metadata": {
        "colab": {
          "base_uri": "https://localhost:8080/"
        },
        "id": "x1axmEdHN2nf",
        "outputId": "7ad1682a-93b5-4342-8ef9-90f9734e8e71"
      },
      "execution_count": null,
      "outputs": [
        {
          "output_type": "execute_result",
          "data": {
            "text/plain": [
              "array([4, 4, 2, 3, 4, 4, 2, 4, 3, 0, 3, 2, 2, 2, 4, 4, 1, 2, 3, 2, 4, 2,\n",
              "       1, 4, 2, 0, 1, 0, 2, 4, 3, 3, 2, 4, 4, 0, 3, 1, 3, 0, 4, 4, 4, 1,\n",
              "       3, 2, 4, 4, 1, 4, 4, 0, 3, 4, 0, 1, 3, 4, 0, 4, 2, 2, 2, 4, 0, 4,\n",
              "       2, 2, 0, 3, 3, 4, 3, 3, 4, 3, 2, 1, 0, 3, 3, 2, 4, 0, 2, 1, 2, 4,\n",
              "       1, 4, 2, 0, 4, 4, 4, 4, 4, 0, 3, 4, 3, 4, 4, 4, 0, 2, 4, 1, 2, 2,\n",
              "       4, 4, 2, 0, 1, 3, 0, 4, 1, 4, 3, 2, 2, 3, 2, 4, 0, 0, 3, 2, 0, 3,\n",
              "       2, 4, 4, 4, 1, 4, 2, 3, 3, 4, 2, 1, 2, 3, 2, 4, 3, 3, 4, 4, 2, 2,\n",
              "       4, 2, 2, 4, 0, 1, 2, 2, 4, 2, 4, 3, 4, 3, 0, 4, 2, 2, 3, 4, 2, 4,\n",
              "       3, 3, 4, 0, 0, 0, 0, 0, 2, 0, 2, 0, 3, 0, 2, 1, 0, 4, 2, 1, 4, 0,\n",
              "       2, 0, 3, 1, 0, 4, 4, 2, 1, 1, 3, 3, 4, 4, 1, 1, 3, 0, 4, 1, 2, 3,\n",
              "       1, 0, 4, 3, 0, 2, 4, 2, 2, 0, 0, 1, 2, 0, 3, 4, 4, 3, 4, 2, 3, 2,\n",
              "       4, 0, 4, 2, 4, 0, 2, 2, 0, 0, 4, 4, 4, 4, 4, 1, 2, 4, 3, 2, 0, 4,\n",
              "       2, 0, 0, 4, 2, 3, 2, 4, 4, 0, 3, 3, 1, 3, 3, 0, 2, 2, 2, 4, 4, 4,\n",
              "       3, 0, 0, 4, 0, 2, 0, 0, 0, 3, 2, 3, 4, 4, 0, 4, 0, 4, 2, 1, 1, 0,\n",
              "       4, 0, 4, 2, 0, 4, 0, 0, 4, 4, 0, 4, 2, 0, 0, 3, 4, 2, 3, 2, 4, 2,\n",
              "       2, 2, 0, 0, 4, 0, 2, 3, 2, 4, 2, 4, 4, 2, 3, 1, 2, 3, 2, 1, 2, 2,\n",
              "       4, 2, 4, 0, 3, 3, 0, 2, 4])"
            ]
          },
          "metadata": {},
          "execution_count": 19
        }
      ]
    },
    {
      "cell_type": "code",
      "source": [
        "from sklearn.metrics import classification_report, confusion_matrix\n",
        "import matplotlib.pyplot as plt\n",
        "import seaborn as sns\n",
        "cf_matrix = confusion_matrix(y_val_org, ypreds)\n",
        "\n",
        "plt.figure(figsize=(20,8))\n",
        "ax = sns.heatmap(cf_matrix, annot=True, fmt='g')\n",
        "plt.show()\n",
        "\n",
        "print(\"\\n\\n\")\n",
        "print(classification_report(y_val_org, ypreds))"
      ],
      "metadata": {
        "colab": {
          "base_uri": "https://localhost:8080/",
          "height": 751
        },
        "id": "R8nLueVAOOWt",
        "outputId": "9853cd43-cbec-4104-f3ec-46924533d611"
      },
      "execution_count": null,
      "outputs": [
        {
          "output_type": "display_data",
          "data": {
            "text/plain": [
              "<Figure size 1440x576 with 2 Axes>"
            ],
            "image/png": "[encoded data removed]"
          },
          "metadata": {
            "needs_background": "light"
          }
        },
        {
          "output_type": "stream",
          "name": "stdout",
          "text": [
            "\n",
            "\n",
            "\n",
            "              precision    recall  f1-score   support\n",
            "\n",
            "           0       0.99      0.91      0.95        76\n",
            "           1       1.00      0.52      0.69        61\n",
            "           2       0.94      0.93      0.94        90\n",
            "           3       0.93      0.97      0.95        59\n",
            "           4       0.68      0.99      0.80        75\n",
            "\n",
            "    accuracy                           0.88       361\n",
            "   macro avg       0.91      0.86      0.87       361\n",
            "weighted avg       0.91      0.88      0.87       361\n",
            "\n"
          ]
        }
      ]
    }
  ]
}